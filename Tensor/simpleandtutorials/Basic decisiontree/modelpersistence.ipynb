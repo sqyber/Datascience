{
 "cells": [
  {
   "cell_type": "code",
   "execution_count": 7,
   "metadata": {
    "collapsed": true
   },
   "outputs": [
    {
     "data": {
      "text/plain": "array(['HipHop'], dtype=object)"
     },
     "execution_count": 7,
     "metadata": {},
     "output_type": "execute_result"
    }
   ],
   "source": [
    "import pandas as pd\n",
    "from sklearn.tree import DecisionTreeClassifier\n",
    "import joblib\n",
    "#music_data = pd.read_csv('D:\\Datasets\\music.csv')\n",
    "#X = music_data.drop(columns='genre')\n",
    "#y = music_data['genre']\n",
    "\n",
    "\n",
    "#model = DecisionTreeClassifier()\n",
    "#model.fit(X, y)\n",
    "\n",
    "\n",
    "\n",
    "joblib.load('music-recommender.joblib')\n",
    "predictions = model.predict([[21, 1]])\n",
    "predictions\n"
   ]
  }
 ],
 "metadata": {
  "kernelspec": {
   "name": "pycharm-5db6065c",
   "language": "python",
   "display_name": "PyCharm (Programming)"
  },
  "language_info": {
   "codemirror_mode": {
    "name": "ipython",
    "version": 2
   },
   "file_extension": ".py",
   "mimetype": "text/x-python",
   "name": "python",
   "nbconvert_exporter": "python",
   "pygments_lexer": "ipython2",
   "version": "2.7.6"
  }
 },
 "nbformat": 4,
 "nbformat_minor": 0
}