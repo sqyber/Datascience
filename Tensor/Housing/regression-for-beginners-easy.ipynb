{
 "cells": [
  {
   "cell_type": "markdown",
   "id": "distant-aircraft",
   "metadata": {
    "papermill": {
     "duration": 0.024688,
     "end_time": "2021-04-13T18:57:10.002914",
     "exception": false,
     "start_time": "2021-04-13T18:57:09.978226",
     "status": "completed"
    },
    "tags": []
   },
   "source": [
    "## Importing the tools needed "
   ]
  },
  {
   "cell_type": "code",
   "execution_count": 1,
   "id": "robust-amazon",
   "metadata": {
    "execution": {
     "iopub.execute_input": "2021-04-13T18:57:10.054041Z",
     "iopub.status.busy": "2021-04-13T18:57:10.052887Z",
     "iopub.status.idle": "2021-04-13T18:57:11.178320Z",
     "shell.execute_reply": "2021-04-13T18:57:11.177389Z"
    },
    "papermill": {
     "duration": 1.151921,
     "end_time": "2021-04-13T18:57:11.178526",
     "exception": false,
     "start_time": "2021-04-13T18:57:10.026605",
     "status": "completed"
    },
    "tags": []
   },
   "outputs": [],
   "source": [
    "import numpy as np # linear algebra \n",
    "\n",
    "import pandas as pd # data processing, CSV file I/O (e.g. pd.read_csv)\n",
    "\n",
    "from sklearn.preprocessing import MinMaxScaler #importing the data scaling tool MinMaxScaler\n",
    "\n",
    "from scipy import linalg # linear algebra calculations and matrix inversion included\n",
    "\n",
    "%matplotlib inline \n",
    "\n",
    "import matplotlib.pyplot as plt #for detailed visualization\n",
    "\n",
    "import seaborn as sns #for fast and flexable visualization"
   ]
  },
  {
   "cell_type": "markdown",
   "id": "noticed-insight",
   "metadata": {
    "papermill": {
     "duration": 0.023691,
     "end_time": "2021-04-13T18:57:11.226833",
     "exception": false,
     "start_time": "2021-04-13T18:57:11.203142",
     "status": "completed"
    },
    "tags": []
   },
   "source": [
    "## show the Data"
   ]
  },
  {
   "cell_type": "code",
   "execution_count": 2,
   "id": "turkish-happening",
   "metadata": {
    "execution": {
     "iopub.execute_input": "2021-04-13T18:57:11.279861Z",
     "iopub.status.busy": "2021-04-13T18:57:11.279177Z",
     "iopub.status.idle": "2021-04-13T18:57:11.354188Z",
     "shell.execute_reply": "2021-04-13T18:57:11.352976Z"
    },
    "papermill": {
     "duration": 0.105007,
     "end_time": "2021-04-13T18:57:11.354352",
     "exception": false,
     "start_time": "2021-04-13T18:57:11.249345",
     "status": "completed"
    },
    "tags": []
   },
   "outputs": [
    {
     "data": {
      "text/plain": "   1stFlrSF  SalePrice\n0       856     208500\n1      1262     181500\n2       920     223500\n3       961     140000\n4      1145     250000",
      "text/html": "<div>\n<style scoped>\n    .dataframe tbody tr th:only-of-type {\n        vertical-align: middle;\n    }\n\n    .dataframe tbody tr th {\n        vertical-align: top;\n    }\n\n    .dataframe thead th {\n        text-align: right;\n    }\n</style>\n<table border=\"1\" class=\"dataframe\">\n  <thead>\n    <tr style=\"text-align: right;\">\n      <th></th>\n      <th>1stFlrSF</th>\n      <th>SalePrice</th>\n    </tr>\n  </thead>\n  <tbody>\n    <tr>\n      <th>0</th>\n      <td>856</td>\n      <td>208500</td>\n    </tr>\n    <tr>\n      <th>1</th>\n      <td>1262</td>\n      <td>181500</td>\n    </tr>\n    <tr>\n      <th>2</th>\n      <td>920</td>\n      <td>223500</td>\n    </tr>\n    <tr>\n      <th>3</th>\n      <td>961</td>\n      <td>140000</td>\n    </tr>\n    <tr>\n      <th>4</th>\n      <td>1145</td>\n      <td>250000</td>\n    </tr>\n  </tbody>\n</table>\n</div>"
     },
     "execution_count": 2,
     "metadata": {},
     "output_type": "execute_result"
    }
   ],
   "source": [
    "#read the csv file\n",
    "df = pd.read_csv(\"train.csv\")\n",
    "\n",
    "# select columns to use\n",
    "df = df[['1stFlrSF',\"SalePrice\"]] \n",
    "\n",
    "#to show the first 5 rows\n",
    "df.head()"
   ]
  },
  {
   "cell_type": "code",
   "execution_count": 3,
   "id": "toxic-identifier",
   "metadata": {
    "execution": {
     "iopub.execute_input": "2021-04-13T18:57:11.407602Z",
     "iopub.status.busy": "2021-04-13T18:57:11.406784Z",
     "iopub.status.idle": "2021-04-13T18:57:11.425697Z",
     "shell.execute_reply": "2021-04-13T18:57:11.424684Z"
    },
    "papermill": {
     "duration": 0.047633,
     "end_time": "2021-04-13T18:57:11.425940",
     "exception": false,
     "start_time": "2021-04-13T18:57:11.378307",
     "status": "completed"
    },
    "tags": []
   },
   "outputs": [
    {
     "name": "stdout",
     "output_type": "stream",
     "text": [
      "<class 'pandas.core.frame.DataFrame'>\n",
      "RangeIndex: 1460 entries, 0 to 1459\n",
      "Data columns (total 2 columns):\n",
      " #   Column     Non-Null Count  Dtype\n",
      "---  ------     --------------  -----\n",
      " 0   1stFlrSF   1460 non-null   int64\n",
      " 1   SalePrice  1460 non-null   int64\n",
      "dtypes: int64(2)\n",
      "memory usage: 22.9 KB\n"
     ]
    }
   ],
   "source": [
    "#information about the data (null values , datatype)\n",
    "df.info()"
   ]
  },
  {
   "cell_type": "markdown",
   "id": "banner-contractor",
   "metadata": {
    "papermill": {
     "duration": 0.023702,
     "end_time": "2021-04-13T18:57:11.475181",
     "exception": false,
     "start_time": "2021-04-13T18:57:11.451479",
     "status": "completed"
    },
    "tags": []
   },
   "source": [
    "## find relations"
   ]
  },
  {
   "cell_type": "code",
   "execution_count": 4,
   "id": "significant-cowboy",
   "metadata": {
    "execution": {
     "iopub.execute_input": "2021-04-13T18:57:11.546621Z",
     "iopub.status.busy": "2021-04-13T18:57:11.545289Z",
     "iopub.status.idle": "2021-04-13T18:57:11.772507Z",
     "shell.execute_reply": "2021-04-13T18:57:11.773094Z"
    },
    "papermill": {
     "duration": 0.27418,
     "end_time": "2021-04-13T18:57:11.773277",
     "exception": false,
     "start_time": "2021-04-13T18:57:11.499097",
     "status": "completed"
    },
    "tags": []
   },
   "outputs": [
    {
     "data": {
      "text/plain": "<Figure size 432x288 with 1 Axes>",
      "image/png": "[encoded data removed]"
     },
     "metadata": {},
     "output_type": "display_data"
    }
   ],
   "source": [
    "sns.set_style(\"darkgrid\") #set style to make it look better\n",
    "\n",
    "plt.plot(df[\"1stFlrSF\"], df[\"SalePrice\"],'ro') \n",
    "#graph of size column on x axis and price column on y axis\n",
    "\n",
    "plt.xlabel('First Floor square feet') #x axis label\n",
    "plt.ylabel('Sale Price')  #y axis label\n",
    "\n",
    "plt.title(\"First Floor square feet and price scatter plot relation\"); #title of graph"
   ]
  },
  {
   "cell_type": "markdown",
   "id": "muslim-leonard",
   "metadata": {
    "papermill": {
     "duration": 0.024977,
     "end_time": "2021-04-13T18:57:11.825915",
     "exception": false,
     "start_time": "2021-04-13T18:57:11.800938",
     "status": "completed"
    },
    "tags": []
   },
   "source": [
    "we see strong posititve correlation that will make it easier for out model to fit good to it"
   ]
  },
  {
   "cell_type": "code",
   "execution_count": 5,
   "id": "twelve-longer",
   "metadata": {
    "execution": {
     "iopub.execute_input": "2021-04-13T18:57:11.897773Z",
     "iopub.status.busy": "2021-04-13T18:57:11.883149Z",
     "iopub.status.idle": "2021-04-13T18:57:12.144417Z",
     "shell.execute_reply": "2021-04-13T18:57:12.143859Z"
    },
    "papermill": {
     "duration": 0.293215,
     "end_time": "2021-04-13T18:57:12.144571",
     "exception": false,
     "start_time": "2021-04-13T18:57:11.851356",
     "status": "completed"
    },
    "tags": []
   },
   "outputs": [
    {
     "data": {
      "text/plain": "<Figure size 432x288 with 1 Axes>",
      "image/png": "[encoded data removed]"
     },
     "metadata": {},
     "output_type": "display_data"
    }
   ],
   "source": [
    "sns.kdeplot(df[\"1stFlrSF\"])\n",
    "plt.title(\"distribution of the First Floor square feet\");"
   ]
  },
  {
   "cell_type": "markdown",
   "id": "absolute-beaver",
   "metadata": {
    "papermill": {
     "duration": 0.02588,
     "end_time": "2021-04-13T18:57:12.197182",
     "exception": false,
     "start_time": "2021-04-13T18:57:12.171302",
     "status": "completed"
    },
    "tags": []
   },
   "source": [
    "the distribution of the data is skewed to the right which most of the points are in range 500 to 2000Cost_normal"
   ]
  },
  {
   "cell_type": "code",
   "execution_count": 6,
   "id": "conditional-flesh",
   "metadata": {
    "execution": {
     "iopub.execute_input": "2021-04-13T18:57:12.260011Z",
     "iopub.status.busy": "2021-04-13T18:57:12.259016Z",
     "iopub.status.idle": "2021-04-13T18:57:12.263196Z",
     "shell.execute_reply": "2021-04-13T18:57:12.262546Z"
    },
    "papermill": {
     "duration": 0.039338,
     "end_time": "2021-04-13T18:57:12.263336",
     "exception": false,
     "start_time": "2021-04-13T18:57:12.223998",
     "status": "completed"
    },
    "tags": []
   },
   "outputs": [
    {
     "name": "stdout",
     "output_type": "stream",
     "text": [
      "independant data shape :  (1460, 1)\n",
      "dependant data shape :  (1460, 1)\n",
      "number of training examples :  1460\n"
     ]
    }
   ],
   "source": [
    "#select the independent columns\n",
    "X = df[\"1stFlrSF\"].values # cahnge it from pd.series to numpy array\n",
    "X = X.reshape((X.shape[0],1)) # change the shape from (1460,None) to (1460,1) to prevent shape errors\n",
    "\n",
    "# select the dependant column\n",
    "Y = df[\"SalePrice\"].values # change it from pd.series to numpy array\n",
    "Y = Y.reshape((Y.shape[0],1)) #  # change the shape from (1460,None) to (1460,1) to prevent shape errors\n",
    "\n",
    "#number of training examples\n",
    "m = X.shape[0] \n",
    "\n",
    "print(\"independant data shape : \",X.shape)\n",
    "print(\"dependant data shape : \",Y.shape)\n",
    "print(\"number of training examples : \",m)"
   ]
  },
  {
   "cell_type": "markdown",
   "id": "cardiac-rating",
   "metadata": {
    "papermill": {
     "duration": 0.026368,
     "end_time": "2021-04-13T18:57:12.317133",
     "exception": false,
     "start_time": "2021-04-13T18:57:12.290765",
     "status": "completed"
    },
    "tags": []
   },
   "source": [
    "## Scaling (Min Max Scaler):\n",
    "\n",
    "$$ X_{sc} = \\frac{X_{i} - X_{min}}{X_{max} - X_{min}}$$\n",
    "\n",
    "\n",
    "MinMaxScaler take the same data distribution and scale it between 0 and 1 whic will prevent infinity numbers to appear at the gradient descent process\n",
    "\n",
    "scaling is a must when it comes to large numbers as in the independant features eg.(1stFlrSF)"
   ]
  },
  {
   "cell_type": "code",
   "execution_count": 7,
   "id": "potential-sleep",
   "metadata": {
    "execution": {
     "iopub.execute_input": "2021-04-13T18:57:12.376901Z",
     "iopub.status.busy": "2021-04-13T18:57:12.376236Z",
     "iopub.status.idle": "2021-04-13T18:57:12.380042Z",
     "shell.execute_reply": "2021-04-13T18:57:12.379485Z"
    },
    "papermill": {
     "duration": 0.03639,
     "end_time": "2021-04-13T18:57:12.380192",
     "exception": false,
     "start_time": "2021-04-13T18:57:12.343802",
     "status": "completed"
    },
    "tags": []
   },
   "outputs": [],
   "source": [
    "#initializing MinMaxScaler to an object\n",
    "scale = MinMaxScaler()\n",
    "\n",
    "X_scaled = scale.fit_transform(X)"
   ]
  },
  {
   "cell_type": "code",
   "execution_count": 8,
   "id": "hairy-tribute",
   "metadata": {
    "execution": {
     "iopub.execute_input": "2021-04-13T18:57:12.462739Z",
     "iopub.status.busy": "2021-04-13T18:57:12.460525Z",
     "iopub.status.idle": "2021-04-13T18:57:12.888105Z",
     "shell.execute_reply": "2021-04-13T18:57:12.887398Z"
    },
    "papermill": {
     "duration": 0.4813,
     "end_time": "2021-04-13T18:57:12.888339",
     "exception": false,
     "start_time": "2021-04-13T18:57:12.407039",
     "status": "completed"
    },
    "tags": []
   },
   "outputs": [
    {
     "data": {
      "text/plain": "<Figure size 720x432 with 2 Axes>",
      "image/png": "[encoded data removed]"
     },
     "metadata": {},
     "output_type": "display_data"
    }
   ],
   "source": [
    "fig, axs = plt.subplots(2,figsize=(10,6)) \n",
    "sns.kdeplot(x=X_scaled[:,0],ax=axs[0])\n",
    "axs[0].set_title(\"Scaled Data distribution\")\n",
    "\n",
    "sns.kdeplot(x=X[:,0],ax=axs[1])\n",
    "axs[1].set_title(\"Original Data distribution\");"
   ]
  },
  {
   "cell_type": "markdown",
   "id": "tested-thompson",
   "metadata": {
    "papermill": {
     "duration": 0.032722,
     "end_time": "2021-04-13T18:57:12.957739",
     "exception": false,
     "start_time": "2021-04-13T18:57:12.925017",
     "status": "completed"
    },
    "tags": []
   },
   "source": [
    "### hypothesis function :\n",
    "#### function used to predict\n",
    "in linear model it is used to predict by making line pass through the points\n",
    "\n",
    "$$\\hat{Y} = \\hat{\\theta}_{0} + \\sum \\limits _{i=1} ^ {m} X_{i}\\hat{\\theta}_{i}$$"
   ]
  },
  {
   "cell_type": "code",
   "execution_count": 9,
   "id": "technical-tooth",
   "metadata": {
    "execution": {
     "iopub.execute_input": "2021-04-13T18:57:13.030244Z",
     "iopub.status.busy": "2021-04-13T18:57:13.029596Z",
     "iopub.status.idle": "2021-04-13T18:57:13.033178Z",
     "shell.execute_reply": "2021-04-13T18:57:13.032554Z"
    },
    "papermill": {
     "duration": 0.043345,
     "end_time": "2021-04-13T18:57:13.033318",
     "exception": false,
     "start_time": "2021-04-13T18:57:12.989973",
     "status": "completed"
    },
    "tags": []
   },
   "outputs": [],
   "source": [
    "def hypothesis(X, Theta): \n",
    "    #hypothesis function\n",
    "    X = np.append(np.ones((X.shape[0],1)), X.reshape((X.shape[0],1)), axis = 1) # (97, 2) append ones to identify x[0]\n",
    "    Theta = Theta.reshape(2,1)  # (2, 1) two thetas for x[0] and for x[1]\n",
    "    return X.dot(Theta)  # (1460, 2) dot (2, 1) = (1460, 1)"
   ]
  },
  {
   "cell_type": "markdown",
   "id": "closing-butler",
   "metadata": {
    "papermill": {
     "duration": 0.028782,
     "end_time": "2021-04-13T18:57:13.090559",
     "exception": false,
     "start_time": "2021-04-13T18:57:13.061777",
     "status": "completed"
    },
    "tags": []
   },
   "source": [
    "### Cost function (mean squared):\n",
    "\n",
    "calculate the difference in value between the predicted and the true value\n",
    "\n",
    "$$J(\\theta_0,\\theta_1) = \\frac{1}{2m}\\sum\\limits _{i=1}^{m}(\\hat{Y}-Y^{i})^2 $$\n",
    "\n",
    "![1_ool361dWI61RMDyUAmalmA](https://user-images.githubusercontent.com/59618586/114189551-99afd880-994a-11eb-802b-f131a9b0e4fe.png)"
   ]
  },
  {
   "cell_type": "code",
   "execution_count": 10,
   "id": "crucial-waterproof",
   "metadata": {
    "execution": {
     "iopub.execute_input": "2021-04-13T18:57:13.154335Z",
     "iopub.status.busy": "2021-04-13T18:57:13.153665Z",
     "iopub.status.idle": "2021-04-13T18:57:13.157445Z",
     "shell.execute_reply": "2021-04-13T18:57:13.156857Z"
    },
    "papermill": {
     "duration": 0.03819,
     "end_time": "2021-04-13T18:57:13.157594",
     "exception": false,
     "start_time": "2021-04-13T18:57:13.119404",
     "status": "completed"
    },
    "tags": []
   },
   "outputs": [],
   "source": [
    "def cost_function(X, Theta, Y):\n",
    "    return (1/(2*m)) * np.sum( np.square(Y - hypothesis(X, Theta)) )"
   ]
  },
  {
   "cell_type": "markdown",
   "id": "statewide-replica",
   "metadata": {
    "papermill": {
     "duration": 0.028473,
     "end_time": "2021-04-13T18:57:13.215514",
     "exception": false,
     "start_time": "2021-04-13T18:57:13.187041",
     "status": "completed"
    },
    "tags": []
   },
   "source": [
    "### Gradient descent optimizer\n",
    "minimize the cost function by changing the weights (theta) after each iteration.\n",
    "\n",
    "$$ \\theta = \\theta - \\frac{\\alpha}{m} \\sum \\limits _{i=1}^{m}(\\hat{Y}-Y^{i}).X^i$$\n",
    "\n",
    "![0cef7a_216e740d402b4a1f9c8f4ccaac893622_mv2](https://user-images.githubusercontent.com/59618586/114191120-5a828700-994c-11eb-90cb-f198e2b6171f.jpg)\n"
   ]
  },
  {
   "cell_type": "code",
   "execution_count": 11,
   "id": "searching-football",
   "metadata": {
    "execution": {
     "iopub.execute_input": "2021-04-13T18:57:13.281160Z",
     "iopub.status.busy": "2021-04-13T18:57:13.280492Z",
     "iopub.status.idle": "2021-04-13T18:57:13.282856Z",
     "shell.execute_reply": "2021-04-13T18:57:13.283339Z"
    },
    "papermill": {
     "duration": 0.038167,
     "end_time": "2021-04-13T18:57:13.283521",
     "exception": false,
     "start_time": "2021-04-13T18:57:13.245354",
     "status": "completed"
    },
    "tags": []
   },
   "outputs": [],
   "source": [
    "def gradient_descent(X, Y, Theta, alpha, iterations):\n",
    "    history=[]\n",
    "    for i in range(iterations):\n",
    "\n",
    "        Theta = Theta - ( (alpha/m) * (X.T).dot(hypothesis(X, Theta) - Y) )\n",
    "        Cost = cost_function(X, Theta, Y)\n",
    "        history.append(Cost)\n",
    "    return Theta,history"
   ]
  },
  {
   "cell_type": "code",
   "execution_count": 12,
   "id": "nominated-tenant",
   "metadata": {
    "execution": {
     "iopub.execute_input": "2021-04-13T18:57:13.348579Z",
     "iopub.status.busy": "2021-04-13T18:57:13.347841Z",
     "iopub.status.idle": "2021-04-13T18:57:13.423545Z",
     "shell.execute_reply": "2021-04-13T18:57:13.424134Z"
    },
    "papermill": {
     "duration": 0.111516,
     "end_time": "2021-04-13T18:57:13.424317",
     "exception": false,
     "start_time": "2021-04-13T18:57:13.312801",
     "status": "completed"
    },
    "tags": []
   },
   "outputs": [],
   "source": [
    "Theta,history = gradient_descent(X_scaled, Y, Theta = np.array([77756,542573]).reshape((2,1)), alpha = 0.01,iterations= 1000)\n",
    "\n",
    "P = hypothesis(X_scaled, Theta)\n",
    "\n",
    "Cost_linear = cost_function(X_scaled, Theta, Y)"
   ]
  },
  {
   "cell_type": "code",
   "execution_count": 13,
   "id": "german-company",
   "metadata": {
    "execution": {
     "iopub.execute_input": "2021-04-13T18:57:13.487734Z",
     "iopub.status.busy": "2021-04-13T18:57:13.487069Z",
     "iopub.status.idle": "2021-04-13T18:57:13.494833Z",
     "shell.execute_reply": "2021-04-13T18:57:13.495768Z"
    },
    "papermill": {
     "duration": 0.042388,
     "end_time": "2021-04-13T18:57:13.496142",
     "exception": false,
     "start_time": "2021-04-13T18:57:13.453754",
     "status": "completed"
    },
    "tags": []
   },
   "outputs": [
    {
     "name": "stdout",
     "output_type": "stream",
     "text": [
      "the trained weights : \n",
      " [[ 77756.60152061]\n",
      " [542573.60152061]]\n"
     ]
    }
   ],
   "source": [
    "print(\"the trained weights : \\n\",Theta)"
   ]
  },
  {
   "cell_type": "markdown",
   "id": "answering-maker",
   "metadata": {
    "papermill": {
     "duration": 0.029024,
     "end_time": "2021-04-13T18:57:13.555106",
     "exception": false,
     "start_time": "2021-04-13T18:57:13.526082",
     "status": "completed"
    },
    "tags": []
   },
   "source": [
    "### Lets see how our model did visually on data"
   ]
  },
  {
   "cell_type": "code",
   "execution_count": 14,
   "id": "juvenile-people",
   "metadata": {
    "execution": {
     "iopub.execute_input": "2021-04-13T18:57:13.635670Z",
     "iopub.status.busy": "2021-04-13T18:57:13.634631Z",
     "iopub.status.idle": "2021-04-13T18:57:13.863514Z",
     "shell.execute_reply": "2021-04-13T18:57:13.862704Z"
    },
    "papermill": {
     "duration": 0.27918,
     "end_time": "2021-04-13T18:57:13.863670",
     "exception": false,
     "start_time": "2021-04-13T18:57:13.584490",
     "status": "completed"
    },
    "tags": []
   },
   "outputs": [
    {
     "data": {
      "text/plain": "<Figure size 720x432 with 1 Axes>",
      "image/png": "[encoded data removed]"
     },
     "metadata": {},
     "output_type": "display_data"
    }
   ],
   "source": [
    "plt.figure(figsize=(10,6))\n",
    "plt.plot(X_scaled, Y, 'ko') #scatterplot of the data\n",
    "plt.plot(X_scaled, P, '-') #our model prediction\n",
    "\n",
    "plt.title(\"our prediction visualization\")\n",
    "plt.xlabel('First Floor square feet')\n",
    "plt.ylabel('Sale Price');"
   ]
  },
  {
   "cell_type": "code",
   "execution_count": 15,
   "id": "demanding-client",
   "metadata": {
    "execution": {
     "iopub.execute_input": "2021-04-13T18:57:13.965141Z",
     "iopub.status.busy": "2021-04-13T18:57:13.939245Z",
     "iopub.status.idle": "2021-04-13T18:57:14.242833Z",
     "shell.execute_reply": "2021-04-13T18:57:14.242191Z"
    },
    "papermill": {
     "duration": 0.347961,
     "end_time": "2021-04-13T18:57:14.242990",
     "exception": false,
     "start_time": "2021-04-13T18:57:13.895029",
     "status": "completed"
    },
    "tags": []
   },
   "outputs": [
    {
     "data": {
      "text/plain": "<Figure size 720x432 with 1 Axes>",
      "image/png": "[encoded data removed]"
     },
     "metadata": {},
     "output_type": "display_data"
    }
   ],
   "source": [
    "plt.figure(figsize=(10,6))\n",
    "sns.lineplot(x=range(0,1000),y=history)\n",
    "\n",
    "plt.title(\"cost function after each iteration\")\n",
    "plt.xlabel('number of iterations')\n",
    "plt.ylabel('cost function value');"
   ]
  },
  {
   "cell_type": "code",
   "execution_count": 16,
   "id": "resident-stuart",
   "metadata": {
    "execution": {
     "iopub.execute_input": "2021-04-13T18:57:14.312564Z",
     "iopub.status.busy": "2021-04-13T18:57:14.311817Z",
     "iopub.status.idle": "2021-04-13T18:57:14.315468Z",
     "shell.execute_reply": "2021-04-13T18:57:14.316105Z"
    },
    "papermill": {
     "duration": 0.041249,
     "end_time": "2021-04-13T18:57:14.316289",
     "exception": false,
     "start_time": "2021-04-13T18:57:14.275040",
     "status": "completed"
    },
    "tags": []
   },
   "outputs": [
    {
     "name": "stdout",
     "output_type": "stream",
     "text": [
      "the value of cost function after each iteration : \n",
      " [1995919255.00088, 1995919254.9994154, 1995919254.9979572, 1995919254.9965065, 1995919254.995062, 1995919254.9936247, 1995919254.992194, 1995919254.9907699, 1995919254.9893525, 1995919254.9879415]\n",
      "\n",
      "final cost function of the linear regression module : \n",
      " 1995919254.6911561\n"
     ]
    }
   ],
   "source": [
    "print(\"the value of cost function after each iteration : \\n\",history[:10])\n",
    "print(\"\\nfinal cost function of the linear regression module : \\n\",Cost_linear)"
   ]
  },
  {
   "cell_type": "markdown",
   "id": "hybrid-roads",
   "metadata": {
    "papermill": {
     "duration": 0.03229,
     "end_time": "2021-04-13T18:57:14.381324",
     "exception": false,
     "start_time": "2021-04-13T18:57:14.349034",
     "status": "completed"
    },
    "tags": []
   },
   "source": [
    "we see slightly a decrease in the cost function due to the effect of the tangent in the (cost/theta) convex function on alpha the Learning rate which large at the beginning and then decreased by decreasing the slope"
   ]
  },
  {
   "cell_type": "markdown",
   "id": "robust-shepherd",
   "metadata": {
    "papermill": {
     "duration": 0.032112,
     "end_time": "2021-04-13T18:57:14.445734",
     "exception": false,
     "start_time": "2021-04-13T18:57:14.413622",
     "status": "completed"
    },
    "tags": []
   },
   "source": [
    "## Bonus"
   ]
  },
  {
   "cell_type": "markdown",
   "id": "casual-relationship",
   "metadata": {
    "papermill": {
     "duration": 0.032233,
     "end_time": "2021-04-13T18:57:14.510338",
     "exception": false,
     "start_time": "2021-04-13T18:57:14.478105",
     "status": "completed"
    },
    "tags": []
   },
   "source": [
    "### normal equation\n",
    "same functionality as gradient descent to get the right learning weights.\n",
    "\n",
    "pros :\n",
    "\n",
    "* no hyperparameters\n",
    "* no need for loops and iterations (less time)\n",
    "* more accurate\n",
    "\n",
    "cons:\n",
    "\n",
    "* can't work with more than 10k training examples"
   ]
  },
  {
   "cell_type": "markdown",
   "id": "irish-appliance",
   "metadata": {
    "papermill": {
     "duration": 0.032223,
     "end_time": "2021-04-13T18:57:14.575378",
     "exception": false,
     "start_time": "2021-04-13T18:57:14.543155",
     "status": "completed"
    },
    "tags": []
   },
   "source": [
    "### hypothesis function :\n",
    "\n",
    "$$\\hat{Y} = \\hat{\\theta}_{0} + \\sum \\limits _{i=1} ^ {m} X_{i}\\hat{\\theta}_{i}$$"
   ]
  },
  {
   "cell_type": "code",
   "execution_count": 17,
   "id": "urban-blues",
   "metadata": {
    "execution": {
     "iopub.execute_input": "2021-04-13T18:57:14.647343Z",
     "iopub.status.busy": "2021-04-13T18:57:14.646406Z",
     "iopub.status.idle": "2021-04-13T18:57:14.649994Z",
     "shell.execute_reply": "2021-04-13T18:57:14.649442Z"
    },
    "papermill": {
     "duration": 0.042295,
     "end_time": "2021-04-13T18:57:14.650134",
     "exception": false,
     "start_time": "2021-04-13T18:57:14.607839",
     "status": "completed"
    },
    "tags": []
   },
   "outputs": [],
   "source": [
    "def hypothesis(X, Theta): \n",
    "    #hypothesis function\n",
    "    X = np.append(np.ones((X.shape[0],1)), X.reshape((X.shape[0],1)), axis = 1) # (97, 2) append ones to identify x[0]\n",
    "    Theta = Theta.reshape(2,1)  # (2, 1) two thetas for x[0] and for x[1]\n",
    "    return X.dot(Theta)  # (97, 2) dot (2, 1) = (97, 1)"
   ]
  },
  {
   "cell_type": "markdown",
   "id": "israeli-comfort",
   "metadata": {
    "papermill": {
     "duration": 0.032262,
     "end_time": "2021-04-13T18:57:14.715039",
     "exception": false,
     "start_time": "2021-04-13T18:57:14.682777",
     "status": "completed"
    },
    "tags": []
   },
   "source": [
    "#### Normal function equation\n",
    "\n",
    "$$ (X^T . X)^{-1} . (X^T.Y)$$"
   ]
  },
  {
   "cell_type": "code",
   "execution_count": 18,
   "id": "alpha-worthy",
   "metadata": {
    "execution": {
     "iopub.execute_input": "2021-04-13T18:57:14.787489Z",
     "iopub.status.busy": "2021-04-13T18:57:14.786541Z",
     "iopub.status.idle": "2021-04-13T18:57:14.790479Z",
     "shell.execute_reply": "2021-04-13T18:57:14.789773Z"
    },
    "papermill": {
     "duration": 0.04294,
     "end_time": "2021-04-13T18:57:14.790638",
     "exception": false,
     "start_time": "2021-04-13T18:57:14.747698",
     "status": "completed"
    },
    "tags": []
   },
   "outputs": [],
   "source": [
    "def normal_equation(X,Y):\n",
    "    X = np.append(np.ones((X.shape[0],1)), X.reshape((X.shape[0],1)), axis = 1)\n",
    "    return ( linalg.inv((X.T).dot(X)).dot((X.T).dot(Y)) )"
   ]
  },
  {
   "cell_type": "markdown",
   "id": "violent-stroke",
   "metadata": {
    "papermill": {
     "duration": 0.032989,
     "end_time": "2021-04-13T18:57:14.857712",
     "exception": false,
     "start_time": "2021-04-13T18:57:14.824723",
     "status": "completed"
    },
    "tags": []
   },
   "source": [
    "#### Cost function (mean squared):\n",
    "\n",
    "$$J(\\theta_0,\\theta_1) = \\frac{1}{2m} \\sum \\limits _{i=1}^{m}(\\hat{Y}-Y^{i})^2 $$"
   ]
  },
  {
   "cell_type": "code",
   "execution_count": 19,
   "id": "orange-strengthening",
   "metadata": {
    "execution": {
     "iopub.execute_input": "2021-04-13T18:57:14.930371Z",
     "iopub.status.busy": "2021-04-13T18:57:14.929566Z",
     "iopub.status.idle": "2021-04-13T18:57:14.933319Z",
     "shell.execute_reply": "2021-04-13T18:57:14.932710Z"
    },
    "papermill": {
     "duration": 0.041839,
     "end_time": "2021-04-13T18:57:14.933471",
     "exception": false,
     "start_time": "2021-04-13T18:57:14.891632",
     "status": "completed"
    },
    "tags": []
   },
   "outputs": [],
   "source": [
    "def cost_function(X, Theta, Y):\n",
    "    return (1/(2*m)) * np.sum( np.square(Y - hypothesis(X, Theta)) )"
   ]
  },
  {
   "cell_type": "code",
   "execution_count": 20,
   "id": "centered-catch",
   "metadata": {
    "execution": {
     "iopub.execute_input": "2021-04-13T18:57:15.005166Z",
     "iopub.status.busy": "2021-04-13T18:57:15.004402Z",
     "iopub.status.idle": "2021-04-13T18:57:15.016062Z",
     "shell.execute_reply": "2021-04-13T18:57:15.015390Z"
    },
    "papermill": {
     "duration": 0.049466,
     "end_time": "2021-04-13T18:57:15.016207",
     "exception": false,
     "start_time": "2021-04-13T18:57:14.966741",
     "status": "completed"
    },
    "tags": []
   },
   "outputs": [
    {
     "name": "stdout",
     "output_type": "stream",
     "text": [
      "the trained weights : \n",
      " [[ 77756.65461682]\n",
      " [542573.71163763]] \n",
      "\n",
      "the final cost value of the normal equation : \n",
      " 1995919254.6883683\n"
     ]
    }
   ],
   "source": [
    "Theta = normal_equation(X_scaled,Y).reshape(2,1)\n",
    "P = hypothesis(X_scaled, Theta)\n",
    "Cost_normal = cost_function(X_scaled, Theta, Y)\n",
    "\n",
    "print(\"the trained weights : \\n\",Theta,\"\\n\")\n",
    "print(\"the final cost value of the normal equation : \\n\",Cost_normal)"
   ]
  },
  {
   "cell_type": "code",
   "execution_count": 21,
   "id": "japanese-nursing",
   "metadata": {
    "execution": {
     "iopub.execute_input": "2021-04-13T18:57:15.095824Z",
     "iopub.status.busy": "2021-04-13T18:57:15.095124Z",
     "iopub.status.idle": "2021-04-13T18:57:15.331610Z",
     "shell.execute_reply": "2021-04-13T18:57:15.330973Z"
    },
    "papermill": {
     "duration": 0.280665,
     "end_time": "2021-04-13T18:57:15.331756",
     "exception": false,
     "start_time": "2021-04-13T18:57:15.051091",
     "status": "completed"
    },
    "tags": []
   },
   "outputs": [
    {
     "data": {
      "text/plain": "<Figure size 720x432 with 1 Axes>",
      "image/png": "[encoded data removed]"
     },
     "metadata": {},
     "output_type": "display_data"
    }
   ],
   "source": [
    "plt.figure(figsize=(10,6))\n",
    "plt.plot(X, Y, 'ko') #scatterplot of the data\n",
    "plt.plot(X, P, '-') #our model prediction\n",
    "\n",
    "plt.title(\"our prediction visualization\")\n",
    "plt.xlabel('First Floor square feet')\n",
    "plt.ylabel('Sale Price');"
   ]
  },
  {
   "cell_type": "code",
   "execution_count": 22,
   "id": "brutal-conservation",
   "metadata": {
    "execution": {
     "iopub.execute_input": "2021-04-13T18:57:15.408268Z",
     "iopub.status.busy": "2021-04-13T18:57:15.407488Z",
     "iopub.status.idle": "2021-04-13T18:57:15.413115Z",
     "shell.execute_reply": "2021-04-13T18:57:15.412373Z"
    },
    "papermill": {
     "duration": 0.046016,
     "end_time": "2021-04-13T18:57:15.413267",
     "exception": false,
     "start_time": "2021-04-13T18:57:15.367251",
     "status": "completed"
    },
    "tags": []
   },
   "outputs": [
    {
     "name": "stdout",
     "output_type": "stream",
     "text": [
      "normal function cost :  1995919254.6883683\n",
      "\n",
      "linear regression cost :  1995919254.6911561\n"
     ]
    }
   ],
   "source": [
    "print(\"normal function cost : \",Cost_normal)\n",
    "print(\"\\nlinear regression cost : \",Cost_linear)"
   ]
  },
  {
   "cell_type": "markdown",
   "id": "unlike-scratch",
   "metadata": {
    "papermill": {
     "duration": 0.035842,
     "end_time": "2021-04-13T18:57:15.485111",
     "exception": false,
     "start_time": "2021-04-13T18:57:15.449269",
     "status": "completed"
    },
    "tags": []
   },
   "source": [
    "we see it is more accurate than the linear regression module and less cost function also."
   ]
  }
 ],
 "metadata": {
  "kernelspec": {
   "name": "pycharm-5db6065c",
   "language": "python",
   "display_name": "PyCharm (Programming)"
  },
  "language_info": {
   "codemirror_mode": {
    "name": "ipython",
    "version": 3
   },
   "file_extension": ".py",
   "mimetype": "text/x-python",
   "name": "python",
   "nbconvert_exporter": "python",
   "pygments_lexer": "ipython3",
   "version": "3.7.9"
  },
  "papermill": {
   "default_parameters": {},
   "duration": 12.961939,
   "end_time": "2021-04-13T18:57:16.231239",
   "environment_variables": {},
   "exception": null,
   "input_path": "__notebook__.ipynb",
   "output_path": "__notebook__.ipynb",
   "parameters": {},
   "start_time": "2021-04-13T18:57:03.269300",
   "version": "2.3.2"
  }
 },
 "nbformat": 4,
 "nbformat_minor": 5
}