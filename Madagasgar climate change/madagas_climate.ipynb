{
 "cells": [
  {
   "cell_type": "code",
   "execution_count": 80,
   "outputs": [],
   "source": [
    "import pandas as pd\n",
    "import numpy as np\n",
    "import seaborn as sns\n",
    "import matplotlib.pyplot as plt\n",
    "import matplotlib as mpl\n",
    "import matplotlib.cm as mtpltcm\n",
    "from mpl_toolkits.mplot3d import Axes3D\n",
    "import random\n",
    "import folium\n",
    "from folium.plugins import HeatMap, HeatMapWithTime\n",
    "from folium import plugins\n",
    "from netCDF4 import Dataset\n",
    "import cartopy.crs as ccrs\n",
    "import pydub\n",
    "from scipy.io.wavfile import read, write\n",
    "import librosa\n",
    "import librosa.display\n",
    "import IPython\n",
    "from IPython.display import Audio\n",
    "import scipy\n",
    "from scipy import signal\n",
    "from scipy.fft import fftshift\n",
    "#from mpl_toolkits.basemap import Basemap  <-- can't install resolve later"
   ],
   "metadata": {
    "collapsed": false,
    "pycharm": {
     "name": "#%%\n"
    }
   }
  },
  {
   "cell_type": "code",
   "execution_count": 81,
   "metadata": {
    "collapsed": true
   },
   "outputs": [],
   "source": [
    "M1_PATH = 'Madagascarweatherdata1.nc4'\n",
    "M2_PATH = 'Madagascarweatherdata2.nc4'\n",
    "M3_PATH = 'Madagascarweatherdata3.nc4'\n",
    "M4_PATH = 'Madagascarweatherdata4.nc4'\n",
    "M5_PATH = 'Madagascarweatherdata5.nc4'\n",
    "M6_PATH = 'Madagascarweatherdata6.nc4'\n",
    "M7_PATH = 'Madagascarweatherdata7.nc4'"
   ]
  },
  {
   "cell_type": "code",
   "execution_count": 82,
   "outputs": [],
   "source": [
    "M1_DATA = Dataset(M1_PATH)\n",
    "M2_DATA = Dataset(M2_PATH)\n",
    "M3_DATA = Dataset(M3_PATH)\n",
    "M4_DATA = Dataset(M4_PATH)\n",
    "M5_DATA = Dataset(M5_PATH)\n",
    "M6_DATA = Dataset(M6_PATH)\n",
    "M7_DATA = Dataset(M7_PATH)"
   ],
   "metadata": {
    "collapsed": false,
    "pycharm": {
     "name": "#%%\n"
    }
   }
  },
  {
   "cell_type": "code",
   "source": [
    "# print specifics when needed\n",
    "print(repr(M1_DATA))\n",
    "print(repr(M2_DATA))\n",
    "print(repr(M3_DATA))\n",
    "print(repr(M4_DATA))\n",
    "print(repr(M5_DATA))\n",
    "print(repr(M6_DATA))\n",
    "print(repr(M7_DATA))"
   ],
   "metadata": {
    "collapsed": false,
    "pycharm": {
     "name": "#%%\n"
    }
   },
   "execution_count": 83,
   "outputs": [
    {
     "name": "stdout",
     "output_type": "stream",
     "text": [
      "<class 'netCDF4._netCDF4.Dataset'>\n",
      "root group (NETCDF4 data model, file format HDF5):\n",
      "    Conventions: COARDS\n",
      "    calendar: standard\n",
      "    comments: File\n",
      "    model: geos/das\n",
      "    center: gsfc\n",
      "    dimensions(sizes): time(24), longitude(33), latitude(63)\n",
      "    variables(dimensions): float64 time(time), float64 longitude(longitude), float64 latitude(latitude), float32 rhoa(time, latitude, longitude)\n",
      "    groups: \n",
      "<class 'netCDF4._netCDF4.Dataset'>\n",
      "root group (NETCDF4 data model, file format HDF5):\n",
      "    Conventions: COARDS\n",
      "    calendar: standard\n",
      "    comments: File\n",
      "    model: geos/das\n",
      "    center: gsfc\n",
      "    dimensions(sizes): time(24), longitude(33), latitude(63)\n",
      "    variables(dimensions): float64 time(time), float64 longitude(longitude), float64 latitude(latitude), float32 prectot(time, latitude, longitude), float32 prmc(time, latitude, longitude), float32 grn(time, latitude, longitude), float32 evland(time, latitude, longitude), float32 teland(time, latitude, longitude), float32 evpintr(time, latitude, longitude), float32 shland(time, latitude, longitude)\n",
      "    groups: \n",
      "<class 'netCDF4._netCDF4.Dataset'>\n",
      "root group (NETCDF4 data model, file format HDF5):\n",
      "    Conventions: COARDS\n",
      "    calendar: standard\n",
      "    comments: File\n",
      "    model: geos/das\n",
      "    center: gsfc\n",
      "    dimensions(sizes): time(24), longitude(33), latitude(63)\n",
      "    variables(dimensions): float64 time(time), float64 longitude(longitude), float64 latitude(latitude), float32 evapout(time, latitude, longitude), float32 dtsdt_ana(time, latitude, longitude), float32 qwarm(time, latitude, longitude)\n",
      "    groups: \n",
      "<class 'netCDF4._netCDF4.Dataset'>\n",
      "root group (NETCDF4 data model, file format HDF5):\n",
      "    Conventions: COARDS\n",
      "    calendar: standard\n",
      "    comments: File\n",
      "    model: geos/das\n",
      "    center: gsfc\n",
      "    dimensions(sizes): time(24), longitude(33), latitude(63)\n",
      "    variables(dimensions): float64 time(time), float64 longitude(longitude), float64 latitude(latitude), float32 albnirdr(time, latitude, longitude), float32 albvisdr(time, latitude, longitude), float32 emis(time, latitude, longitude), float32 albedo(time, latitude, longitude), float32 cldtot(time, latitude, longitude), float32 lwgab(time, latitude, longitude), float32 swgdn(time, latitude, longitude)\n",
      "    groups: \n",
      "<class 'netCDF4._netCDF4.Dataset'>\n",
      "root group (NETCDF4 data model, file format HDF5):\n",
      "    Conventions: COARDS\n",
      "    calendar: standard\n",
      "    comments: File\n",
      "    model: geos/das\n",
      "    center: gsfc\n",
      "    dimensions(sizes): time(24), longitude(33), latitude(63)\n",
      "    variables(dimensions): float64 time(time), float64 longitude(longitude), float64 latitude(latitude), float32 ps(time, latitude, longitude), float32 ts(time, latitude, longitude), float32 slp(time, latitude, longitude), float32 cldprs(time, latitude, longitude)\n",
      "    groups: \n",
      "<class 'netCDF4._netCDF4.Dataset'>\n",
      "root group (NETCDF4 data model, file format HDF5):\n",
      "    Conventions: COARDS\n",
      "    calendar: standard\n",
      "    comments: File\n",
      "    model: geos/das\n",
      "    center: gsfc\n",
      "    dimensions(sizes): time(8), longitude(33), latitude(63)\n",
      "    variables(dimensions): float64 time(time), float64 longitude(longitude), float64 latitude(latitude), float32 nh4cmass(time, latitude, longitude), float32 so4cmass(time, latitude, longitude), float32 nicmass(time, latitude, longitude), float32 sssmass(time, latitude, longitude), float32 nh3cmass(time, latitude, longitude), float32 hno3smass(time, latitude, longitude), float32 bcsmass(time, latitude, longitude), float32 bccmass(time, latitude, longitude), float32 so2cmass(time, latitude, longitude), float32 hno3cmass(time, latitude, longitude), float32 ducmass(time, latitude, longitude), float32 nismass(time, latitude, longitude), float32 nh4smass(time, latitude, longitude)\n",
      "    groups: \n",
      "<class 'netCDF4._netCDF4.Dataset'>\n",
      "root group (NETCDF4 data model, file format HDF5):\n",
      "    Conventions: COARDS\n",
      "    calendar: standard\n",
      "    comments: File\n",
      "    model: geos/das\n",
      "    center: gsfc\n",
      "    dimensions(sizes): time(8), longitude(33), latitude(63)\n",
      "    variables(dimensions): float64 time(time), float64 longitude(longitude), float64 latitude(latitude), float32 cosc(time, latitude, longitude), float32 coem(time, latitude, longitude), float32 cocl(time, latitude, longitude), float32 copd(time, latitude, longitude), float32 cols(time, latitude, longitude)\n",
      "    groups: \n"
     ]
    }
   ]
  },
  {
   "cell_type": "code",
   "execution_count": 84,
   "outputs": [],
   "source": [
    "M_Data_List = [M1_DATA, M2_DATA, M3_DATA, M4_DATA, M5_DATA, M6_DATA, M7_DATA]"
   ],
   "metadata": {
    "collapsed": false,
    "pycharm": {
     "name": "#%%\n"
    }
   }
  },
  {
   "cell_type": "code",
   "execution_count": 85,
   "outputs": [
    {
     "name": "stdout",
     "output_type": "stream",
     "text": [
      "DATA 1\n",
      "dict_keys(['time', 'longitude', 'latitude', 'rhoa'])\n",
      "\n",
      "\n",
      "DATA 2\n",
      "dict_keys(['time', 'longitude', 'latitude', 'prectot', 'prmc', 'grn', 'evland', 'teland', 'evpintr', 'shland'])\n",
      "\n",
      "\n",
      "DATA 3\n",
      "dict_keys(['time', 'longitude', 'latitude', 'evapout', 'dtsdt_ana', 'qwarm'])\n",
      "\n",
      "\n",
      "DATA 4\n",
      "dict_keys(['time', 'longitude', 'latitude', 'albnirdr', 'albvisdr', 'emis', 'albedo', 'cldtot', 'lwgab', 'swgdn'])\n",
      "\n",
      "\n",
      "DATA 5\n",
      "dict_keys(['time', 'longitude', 'latitude', 'ps', 'ts', 'slp', 'cldprs'])\n",
      "\n",
      "\n",
      "DATA 6\n",
      "dict_keys(['time', 'longitude', 'latitude', 'nh4cmass', 'so4cmass', 'nicmass', 'sssmass', 'nh3cmass', 'hno3smass', 'bcsmass', 'bccmass', 'so2cmass', 'hno3cmass', 'ducmass', 'nismass', 'nh4smass'])\n",
      "\n",
      "\n",
      "DATA 7\n",
      "dict_keys(['time', 'longitude', 'latitude', 'cosc', 'coem', 'cocl', 'copd', 'cols'])\n"
     ]
    }
   ],
   "source": [
    "#printing a workable variable list\n",
    "print(\"DATA 1\")\n",
    "print(M1_DATA.variables.keys())\n",
    "print(\"\\n\")\n",
    "print(\"DATA 2\")\n",
    "print(M2_DATA.variables.keys())\n",
    "print(\"\\n\")\n",
    "print(\"DATA 3\")\n",
    "print(M3_DATA.variables.keys())\n",
    "print(\"\\n\")\n",
    "print(\"DATA 4\")\n",
    "print(M4_DATA.variables.keys())\n",
    "print(\"\\n\")\n",
    "print(\"DATA 5\")\n",
    "print(M5_DATA.variables.keys())\n",
    "print(\"\\n\")\n",
    "print(\"DATA 6\")\n",
    "print(M6_DATA.variables.keys())\n",
    "print(\"\\n\")\n",
    "print(\"DATA 7\")\n",
    "print(M7_DATA.variables.keys())\n"
   ],
   "metadata": {
    "collapsed": false,
    "pycharm": {
     "name": "#%%\n"
    }
   }
  },
  {
   "cell_type": "code",
   "execution_count": 86,
   "outputs": [],
   "source": [
    "Climate_keys = ['rhoa',\n",
    "                             'prectot','prmc','grn','evland','teland','evpintr','shland',\n",
    "                            'evapout','dtsdt_ana','qwarm',\n",
    "                            'albnirdr','albvisdr','emis','albedo','cldtot','lwgab','swgdn',\n",
    "                            'ps','ts','slp','cldprs',\n",
    "                            'nh4cmass','so4cmass','nicmass','sssmass','nh3cmass','hno3smass','bcsmass','bccmass','so2cmass','hno3cmass','ducmass','nismass','nh4smass',\n",
    "                            'cosc','coem','cocl','copd','cols']"
   ],
   "metadata": {
    "collapsed": false,
    "pycharm": {
     "name": "#%%\n"
    }
   }
  },
  {
   "cell_type": "code",
   "execution_count": 87,
   "outputs": [
    {
     "name": "stdout",
     "output_type": "stream",
     "text": [
      "air_density_at_surface\n",
      "rhoa\n",
      "float32\n"
     ]
    }
   ],
   "source": [
    "#Data type check\n",
    "print(M1_DATA.variables[Climate_keys[0]].long_name)\n",
    "print(Climate_keys[0])\n",
    "print(M1_DATA.variables[Climate_keys[0]].datatype)"
   ],
   "metadata": {
    "collapsed": false,
    "pycharm": {
     "name": "#%%\n"
    }
   }
  },
  {
   "cell_type": "code",
   "execution_count": 88,
   "outputs": [
    {
     "name": "stdout",
     "output_type": "stream",
     "text": [
      "air_density_at_surface\n",
      "rhoa\n",
      "('time', 'latitude', 'longitude')\n"
     ]
    }
   ],
   "source": [
    "# Dimension control\n",
    "print(M1_DATA.variables[Climate_keys[0]].long_name)\n",
    "print(Climate_keys[0])\n",
    "print(M1_DATA.variables[Climate_keys[0]].dimensions)"
   ],
   "metadata": {
    "collapsed": false,
    "pycharm": {
     "name": "#%%\n"
    }
   }
  },
  {
   "cell_type": "code",
   "execution_count": 89,
   "outputs": [
    {
     "name": "stdout",
     "output_type": "stream",
     "text": [
      "air_density_at_surface\n",
      "rhoa\n",
      "('time', 'latitude', 'longitude')\n"
     ]
    }
   ],
   "source": [
    "#testing specific parts of the list\n",
    "print(M1_DATA.variables[Climate_keys[0]].long_name)\n",
    "print(Climate_keys[0])\n",
    "print(M1_DATA.variables[Climate_keys[0]].dimensions)"
   ],
   "metadata": {
    "collapsed": false,
    "pycharm": {
     "name": "#%%\n"
    }
   }
  },
  {
   "cell_type": "code",
   "execution_count": 90,
   "outputs": [
    {
     "name": "stdout",
     "output_type": "stream",
     "text": [
      "total_precipitation\n",
      "prectot\n",
      "('time', 'latitude', 'longitude')\n",
      "\n",
      "\n",
      "water_profile\n",
      "prmc\n",
      "('time', 'latitude', 'longitude')\n",
      "\n",
      "\n",
      "greenness_fraction\n",
      "grn\n",
      "('time', 'latitude', 'longitude')\n",
      "\n",
      "\n",
      "Evaporation_land\n",
      "evland\n",
      "('time', 'latitude', 'longitude')\n",
      "\n",
      "\n",
      "Total_energy_storage_land\n",
      "teland\n",
      "('time', 'latitude', 'longitude')\n",
      "\n",
      "\n",
      "interception_loss_energy_flux\n",
      "evpintr\n",
      "('time', 'latitude', 'longitude')\n",
      "\n",
      "\n",
      "Sensible_heat_flux_land\n",
      "shland\n",
      "('time', 'latitude', 'longitude')\n",
      "\n",
      "\n"
     ]
    }
   ],
   "source": [
    "for picking_keys in Climate_keys[1:8]:\n",
    "    print(M2_DATA.variables[picking_keys].long_name)\n",
    "    print(picking_keys)\n",
    "    print(M2_DATA.variables[picking_keys].dimensions)\n",
    "    print(\"\\n\")"
   ],
   "metadata": {
    "collapsed": false,
    "pycharm": {
     "name": "#%%\n"
    }
   }
  },
  {
   "cell_type": "code",
   "execution_count": 91,
   "outputs": [
    {
     "name": "stdout",
     "output_type": "stream",
     "text": [
      "evaporation\n",
      "evapout\n",
      "('time', 'latitude', 'longitude')\n",
      "\n",
      "\n",
      "total_skin_temperature_tendency\n",
      "dtsdt_ana\n",
      "('time', 'latitude', 'longitude')\n",
      "\n",
      "\n",
      "net_heating_in_warm_layer\n",
      "qwarm\n",
      "('time', 'latitude', 'longitude')\n",
      "\n",
      "\n"
     ]
    }
   ],
   "source": [
    "for picking_keys in Climate_keys[8:11]:\n",
    "    print(M3_DATA.variables[picking_keys].long_name)\n",
    "    print(picking_keys)\n",
    "    print(M3_DATA.variables[picking_keys].dimensions)\n",
    "    print(\"\\n\")"
   ],
   "metadata": {
    "collapsed": false,
    "pycharm": {
     "name": "#%%\n"
    }
   }
  },
  {
   "cell_type": "code",
   "execution_count": 92,
   "outputs": [
    {
     "name": "stdout",
     "output_type": "stream",
     "text": [
      "surface_albedo_for_near_infrared_beam\n",
      "albnirdr\n",
      "('time', 'latitude', 'longitude')\n",
      "\n",
      "\n",
      "surface_albedo_for_visible_beam\n",
      "albvisdr\n",
      "('time', 'latitude', 'longitude')\n",
      "\n",
      "\n",
      "surface_emissivity\n",
      "emis\n",
      "('time', 'latitude', 'longitude')\n",
      "\n",
      "\n",
      "surface_albedo\n",
      "albedo\n",
      "('time', 'latitude', 'longitude')\n",
      "\n",
      "\n",
      "total_cloud_area_fraction\n",
      "cldtot\n",
      "('time', 'latitude', 'longitude')\n",
      "\n",
      "\n",
      "surface_absorbed_longwave_radiation\n",
      "lwgab\n",
      "('time', 'latitude', 'longitude')\n",
      "\n",
      "\n",
      "surface_incoming_shortwave_flux\n",
      "swgdn\n",
      "('time', 'latitude', 'longitude')\n",
      "\n",
      "\n"
     ]
    }
   ],
   "source": [
    "for picking_keys in Climate_keys[11:18]:\n",
    "    print(M4_DATA.variables[picking_keys].long_name)\n",
    "    print(picking_keys)\n",
    "    print(M4_DATA.variables[picking_keys].dimensions)\n",
    "    print(\"\\n\")"
   ],
   "metadata": {
    "collapsed": false,
    "pycharm": {
     "name": "#%%\n"
    }
   }
  },
  {
   "cell_type": "code",
   "execution_count": 93,
   "outputs": [
    {
     "name": "stdout",
     "output_type": "stream",
     "text": [
      "surface_pressure\n",
      "ps\n",
      "('time', 'latitude', 'longitude')\n",
      "\n",
      "\n",
      "surface_skin_temperature\n",
      "ts\n",
      "('time', 'latitude', 'longitude')\n",
      "\n",
      "\n",
      "sea_level_pressure\n",
      "slp\n",
      "('time', 'latitude', 'longitude')\n",
      "\n",
      "\n",
      "cloud_top_pressure\n",
      "cldprs\n",
      "('time', 'latitude', 'longitude')\n",
      "\n",
      "\n"
     ]
    }
   ],
   "source": [
    "for picking_keys in Climate_keys[18:22]:\n",
    "    print(M5_DATA.variables[picking_keys].long_name)\n",
    "    print(picking_keys)\n",
    "    print(M5_DATA.variables[picking_keys].dimensions)\n",
    "    print(\"\\n\")"
   ],
   "metadata": {
    "collapsed": false,
    "pycharm": {
     "name": "#%%\n"
    }
   }
  },
  {
   "cell_type": "code",
   "execution_count": 94,
   "outputs": [
    {
     "name": "stdout",
     "output_type": "stream",
     "text": [
      "Ammonium Column Mass Density __ENSEMBLE__\n",
      "nh4cmass\n",
      "('time', 'latitude', 'longitude')\n",
      "\n",
      "\n",
      "SO4 Column Mass Density __ENSEMBLE__\n",
      "so4cmass\n",
      "('time', 'latitude', 'longitude')\n",
      "\n",
      "\n",
      "Nitrate Column Mass Density __ENSEMBLE__\n",
      "nicmass\n",
      "('time', 'latitude', 'longitude')\n",
      "\n",
      "\n",
      "Sea Salt Surface Mass Concentration __ENSEMBLE__\n",
      "sssmass\n",
      "('time', 'latitude', 'longitude')\n",
      "\n",
      "\n",
      "Ammonia Column Mass Density __ENSEMBLE__\n",
      "nh3cmass\n",
      "('time', 'latitude', 'longitude')\n",
      "\n",
      "\n",
      "Nitric Acid Surface Mass Concentration __ENSEMBLE__\n",
      "hno3smass\n",
      "('time', 'latitude', 'longitude')\n",
      "\n",
      "\n",
      "Black Carbon Surface Mass Concentration __ENSEMBLE__\n",
      "bcsmass\n",
      "('time', 'latitude', 'longitude')\n",
      "\n",
      "\n",
      "Black Carbon Column Mass Density __ENSEMBLE__\n",
      "bccmass\n",
      "('time', 'latitude', 'longitude')\n",
      "\n",
      "\n",
      "SO2 Column Mass Density __ENSEMBLE__\n",
      "so2cmass\n",
      "('time', 'latitude', 'longitude')\n",
      "\n",
      "\n",
      "Nitric Acid Column Mass Density __ENSEMBLE__\n",
      "hno3cmass\n",
      "('time', 'latitude', 'longitude')\n",
      "\n",
      "\n",
      "Dust Column Mass Density __ENSEMBLE__\n",
      "ducmass\n",
      "('time', 'latitude', 'longitude')\n",
      "\n",
      "\n",
      "Nitrate Surface Mass Concentration __ENSEMBLE__\n",
      "nismass\n",
      "('time', 'latitude', 'longitude')\n",
      "\n",
      "\n",
      "Ammonium Surface Mass Concentration __ENSEMBLE__\n",
      "nh4smass\n",
      "('time', 'latitude', 'longitude')\n",
      "\n",
      "\n"
     ]
    }
   ],
   "source": [
    "for picking_keys in Climate_keys[22:35]:\n",
    "    print(M6_DATA.variables[picking_keys].long_name)\n",
    "    print(picking_keys)\n",
    "    print(M6_DATA.variables[picking_keys].dimensions)\n",
    "    print(\"\\n\")"
   ],
   "metadata": {
    "collapsed": false,
    "pycharm": {
     "name": "#%%\n"
    }
   }
  },
  {
   "cell_type": "code",
   "execution_count": 95,
   "outputs": [
    {
     "name": "stdout",
     "output_type": "stream",
     "text": [
      "CO Surface Concentration in ppbv __ENSEMBLE__\n",
      "cosc\n",
      "('time', 'latitude', 'longitude')\n",
      "\n",
      "\n",
      "CO Emission __ENSEMBLE__\n",
      "coem\n",
      "('time', 'latitude', 'longitude')\n",
      "\n",
      "\n",
      "CO Column Burden __ENSEMBLE__\n",
      "cocl\n",
      "('time', 'latitude', 'longitude')\n",
      "\n",
      "\n",
      "CO Chemical Production __ENSEMBLE__\n",
      "copd\n",
      "('time', 'latitude', 'longitude')\n",
      "\n",
      "\n",
      "CO Chemical Loss __ENSEMBLE__\n",
      "cols\n",
      "('time', 'latitude', 'longitude')\n",
      "\n",
      "\n"
     ]
    }
   ],
   "source": [
    "for picking_keys in Climate_keys[35:]:\n",
    "    print(M7_DATA.variables[picking_keys].long_name)\n",
    "    print(picking_keys)\n",
    "    print(M7_DATA.variables[picking_keys].dimensions)\n",
    "    print(\"\\n\")\n",
    "#Note to self multi files are suffering"
   ],
   "metadata": {
    "collapsed": false,
    "pycharm": {
     "name": "#%%\n"
    }
   }
  },
  {
   "cell_type": "code",
   "execution_count": 96,
   "outputs": [],
   "source": [
    "M1_longitude = M1_DATA.variables['longitude'][:]\n",
    "M1_latitude = M1_DATA.variables['latitude'][:]\n",
    "M1_rhoa = M1_DATA.variables['rhoa'][0,:,:]\n",
    "M2_longitude = M2_DATA.variables[\"longitude\"][:]\n",
    "M2_latitude = M2_DATA.variables[\"latitude\"][:]\n",
    "\n",
    "M2_prectot = M2_DATA.variables[\"prectot\"][0,:,:]\n",
    "M2_prmc = M2_DATA.variables[\"prmc\"][0,:,:]\n",
    "M2_grn = M2_DATA.variables[\"grn\"][0,:,:]\n",
    "M2_evland = M2_DATA.variables[\"evland\"][0,:,:]\n",
    "M2_teland = M2_DATA.variables[\"teland\"][0,:,:]\n",
    "M2_evpintr = M2_DATA.variables[\"evpintr\"][0,:,:]\n",
    "M2_shland = M2_DATA.variables[\"shland\"][0,:,:]\n",
    "\n",
    "M3_longitude = M3_DATA.variables[\"longitude\"][:]\n",
    "M3_latitude = M3_DATA.variables[\"latitude\"][:]\n",
    "\n",
    "M3_evapout = M3_DATA.variables[\"evapout\"][0,:,:]\n",
    "M3_dtsdt_ana = M3_DATA.variables[\"dtsdt_ana\"][0,:,:]\n",
    "M3_qwarm = M3_DATA.variables[\"qwarm\"][0,:,:]"
   ],
   "metadata": {
    "collapsed": false,
    "pycharm": {
     "name": "#%%\n"
    }
   }
  },
  {
   "cell_type": "code",
   "execution_count": 97,
   "outputs": [],
   "source": [
    "M4_longitude = M4_DATA.variables[\"longitude\"][:]\n",
    "M4_latitude = M4_DATA.variables[\"latitude\"][:]\n",
    "\n",
    "M4_albnirdr = M4_DATA.variables[\"albnirdr\"][0,:,:]\n",
    "M4_albvisdr = M4_DATA.variables[\"albvisdr\"][0,:,:]\n",
    "M4_emis = M4_DATA.variables[\"emis\"][0,:,:]\n",
    "M4_albedo = M4_DATA.variables[\"albedo\"][0,:,:]\n",
    "M4_cldtot = M4_DATA.variables[\"cldtot\"][0,:,:]\n",
    "M4_lwgab = M4_DATA.variables[\"lwgab\"][0,:,:]\n",
    "M4_swgdn = M4_DATA.variables[\"swgdn\"][0,:,:]\n",
    "\n",
    "M5_longitude = M5_DATA.variables[\"longitude\"][:]\n",
    "M5_latitude = M5_DATA.variables[\"latitude\"][:]\n",
    "\n",
    "M5_ps = M5_DATA.variables[\"ps\"][0,:,:]\n",
    "M5_ts = M5_DATA.variables[\"ts\"][0,:,:]\n",
    "M5_slp = M5_DATA.variables[\"slp\"][0,:,:]\n",
    "M5_cldprs = M5_DATA.variables[\"cldprs\"][0,:,:]\n",
    "\n",
    "M6_longitude = M6_DATA.variables[\"longitude\"][:]\n",
    "M6_latitude = M6_DATA.variables[\"latitude\"][:]"
   ],
   "metadata": {
    "collapsed": false,
    "pycharm": {
     "name": "#%%\n"
    }
   }
  },
  {
   "cell_type": "code",
   "execution_count": 98,
   "outputs": [],
   "source": [
    "M6_nh4cmass = M6_DATA.variables[\"nh4cmass\"][0,:,:]\n",
    "M6_so4cmass = M6_DATA.variables[\"so4cmass\"][0,:,:]\n",
    "M6_nicmass = M6_DATA.variables[\"nicmass\"][0,:,:]\n",
    "M6_sssmass = M6_DATA.variables[\"sssmass\"][0,:,:]\n",
    "M6_nh3cmass = M6_DATA.variables[\"nh3cmass\"][0,:,:]\n",
    "M6_hno3smass = M6_DATA.variables[\"hno3smass\"][0,:,:]\n",
    "M6_bcsmass = M6_DATA.variables[\"bcsmass\"][0,:,:]\n",
    "M6_so2cmass = M6_DATA.variables[\"so2cmass\"][0,:,:]\n",
    "M6_hno3cmass = M6_DATA.variables[\"hno3cmass\"][0,:,:]\n",
    "M6_ducmass = M6_DATA.variables[\"ducmass\"][0,:,:]\n",
    "M6_nismass = M6_DATA.variables[\"nismass\"][0,:,:]\n",
    "M6_nh4smass = M6_DATA.variables[\"nh4smass\"][0,:,:]\n",
    "\n",
    "M7_longitude = M7_DATA.variables[\"longitude\"][:]\n",
    "M7_latitude = M7_DATA.variables[\"latitude\"][:]\n",
    "\n",
    "M7_cosc = M7_DATA.variables[\"cosc\"][0,:,:]\n",
    "M7_coem = M7_DATA.variables[\"coem\"][0,:,:]\n",
    "M7_cocl = M7_DATA.variables[\"cocl\"][0,:,:]\n",
    "M7_copd = M7_DATA.variables[\"copd\"][0,:,:]\n",
    "M7_cols = M7_DATA.variables[\"cols\"][0,:,:]"
   ],
   "metadata": {
    "collapsed": false,
    "pycharm": {
     "name": "#%%\n"
    }
   }
  },
  {
   "cell_type": "code",
   "execution_count": 99,
   "outputs": [
    {
     "name": "stdout",
     "output_type": "stream",
     "text": [
      "MADAGASCAR\n",
      "----------\n",
      "MAX\n",
      "air_density_at_surface\n",
      "1.2273372\n",
      "------------------------------------------------------------\n",
      "\n",
      "\n"
     ]
    }
   ],
   "source": [
    "#finally testing actual values.\n",
    "print(\"MADAGASCAR\")\n",
    "print(\"-\"*10)\n",
    "print(\"MAX\")\n",
    "print(M1_DATA.variables[\"rhoa\"].long_name)\n",
    "print(M1_DATA.variables[\"rhoa\"][0,:,:].max())\n",
    "print(\"---\"*20)\n",
    "\n",
    "print(\"\\n\")\n"
   ],
   "metadata": {
    "collapsed": false,
    "pycharm": {
     "name": "#%%\n"
    }
   }
  }
 ],
 "metadata": {
  "kernelspec": {
   "name": "pycharm-ff1620ce",
   "language": "python",
   "display_name": "PyCharm (DataScience)"
  },
  "language_info": {
   "codemirror_mode": {
    "name": "ipython",
    "version": 2
   },
   "file_extension": ".py",
   "mimetype": "text/x-python",
   "name": "python",
   "nbconvert_exporter": "python",
   "pygments_lexer": "ipython2",
   "version": "2.7.6"
  }
 },
 "nbformat": 4,
 "nbformat_minor": 0
}