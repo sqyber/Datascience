{
 "cells": [
  {
   "cell_type": "code",
   "execution_count": 25,
   "outputs": [],
   "source": [
    "import pandas as pd\n",
    "import numpy as np\n",
    "import seaborn as sns\n",
    "import matplotlib.pyplot as plt\n",
    "import matplotlib as mpl\n",
    "import matplotlib.cm as mtpltcm\n",
    "from mpl_toolkits.mplot3d import Axes3D\n",
    "import random\n",
    "import folium\n",
    "from folium.plugins import HeatMap, HeatMapWithTime\n",
    "from folium import plugins\n",
    "from netCDF4 import Dataset\n",
    "import cartopy.crs as ccrs\n",
    "import pydub\n",
    "from scipy.io.wavfile import read, write\n",
    "import librosa\n",
    "import librosa.display\n",
    "import IPython\n",
    "from IPython.display import Audio\n",
    "import scipy\n",
    "from scipy import signal\n",
    "from scipy.fft import fftshift\n",
    "#from mpl_toolkits.basemap import Basemap"
   ],
   "metadata": {
    "collapsed": false,
    "pycharm": {
     "name": "#%%\n"
    }
   }
  },
  {
   "cell_type": "code",
   "execution_count": 26,
   "metadata": {
    "collapsed": true
   },
   "outputs": [],
   "source": [
    "M1_PATH = 'Madagascarweatherdata1.nc4'\n",
    "M2_PATH = 'Madagascarweatherdata2.nc4'\n",
    "M3_PATH = 'Madagascarweatherdata3.nc4'\n",
    "M4_PATH = 'Madagascarweatherdata4.nc4'\n",
    "M5_PATH = 'Madagascarweatherdata5.nc4'\n",
    "M6_PATH = 'Madagascarweatherdata6.nc4'\n",
    "M7_PATH = 'Madagascarweatherdata7.nc4'"
   ]
  },
  {
   "cell_type": "code",
   "execution_count": 27,
   "outputs": [
    {
     "ename": "FileNotFoundError",
     "evalue": "[Errno 2] No such file or directory: b'Madagascarweatherdata1.nc4'",
     "output_type": "error",
     "traceback": [
      "\u001B[1;31m---------------------------------------------------------------------------\u001B[0m",
      "\u001B[1;31mFileNotFoundError\u001B[0m                         Traceback (most recent call last)",
      "\u001B[1;32m<ipython-input-27-939192666d3f>\u001B[0m in \u001B[0;36m<module>\u001B[1;34m\u001B[0m\n\u001B[1;32m----> 1\u001B[1;33m \u001B[0mM1_DATA\u001B[0m \u001B[1;33m=\u001B[0m \u001B[0mDataset\u001B[0m\u001B[1;33m(\u001B[0m\u001B[0mM1_PATH\u001B[0m\u001B[1;33m)\u001B[0m\u001B[1;33m\u001B[0m\u001B[1;33m\u001B[0m\u001B[0m\n\u001B[0m\u001B[0;32m      2\u001B[0m \u001B[0mM2_DATA\u001B[0m \u001B[1;33m=\u001B[0m \u001B[0mDataset\u001B[0m\u001B[1;33m(\u001B[0m\u001B[0mM2_PATH\u001B[0m\u001B[1;33m)\u001B[0m\u001B[1;33m\u001B[0m\u001B[1;33m\u001B[0m\u001B[0m\n\u001B[0;32m      3\u001B[0m \u001B[0mM3_DATA\u001B[0m \u001B[1;33m=\u001B[0m \u001B[0mDataset\u001B[0m\u001B[1;33m(\u001B[0m\u001B[0mM3_PATH\u001B[0m\u001B[1;33m)\u001B[0m\u001B[1;33m\u001B[0m\u001B[1;33m\u001B[0m\u001B[0m\n\u001B[0;32m      4\u001B[0m \u001B[0mM4_DATA\u001B[0m \u001B[1;33m=\u001B[0m \u001B[0mDataset\u001B[0m\u001B[1;33m(\u001B[0m\u001B[0mM4_PATH\u001B[0m\u001B[1;33m)\u001B[0m\u001B[1;33m\u001B[0m\u001B[1;33m\u001B[0m\u001B[0m\n\u001B[0;32m      5\u001B[0m \u001B[0mM5_DATA\u001B[0m \u001B[1;33m=\u001B[0m \u001B[0mDataset\u001B[0m\u001B[1;33m(\u001B[0m\u001B[0mM5_PATH\u001B[0m\u001B[1;33m)\u001B[0m\u001B[1;33m\u001B[0m\u001B[1;33m\u001B[0m\u001B[0m\n",
      "\u001B[1;32msrc\\netCDF4\\_netCDF4.pyx\u001B[0m in \u001B[0;36mnetCDF4._netCDF4.Dataset.__init__\u001B[1;34m()\u001B[0m\n",
      "\u001B[1;32msrc\\netCDF4\\_netCDF4.pyx\u001B[0m in \u001B[0;36mnetCDF4._netCDF4._ensure_nc_success\u001B[1;34m()\u001B[0m\n",
      "\u001B[1;31mFileNotFoundError\u001B[0m: [Errno 2] No such file or directory: b'Madagascarweatherdata1.nc4'"
     ]
    }
   ],
   "source": [
    "M1_DATA = Dataset(M1_PATH)\n",
    "M2_DATA = Dataset(M2_PATH)\n",
    "M3_DATA = Dataset(M3_PATH)\n",
    "M4_DATA = Dataset(M4_PATH)\n",
    "M5_DATA = Dataset(M5_PATH)\n",
    "M6_DATA = Dataset(M6_PATH)\n",
    "M7_DATA = Dataset(M7_PATH)"
   ],
   "metadata": {
    "collapsed": false,
    "pycharm": {
     "name": "#%%\n"
    }
   }
  },
  {
   "cell_type": "code",
   "execution_count": null,
   "outputs": [],
   "source": [
    "print(repr(M1_DATA))"
   ],
   "metadata": {
    "collapsed": false,
    "pycharm": {
     "name": "#%%\n"
    }
   }
  }
 ],
 "metadata": {
  "kernelspec": {
   "name": "pycharm-ff1620ce",
   "language": "python",
   "display_name": "PyCharm (DataScience)"
  },
  "language_info": {
   "codemirror_mode": {
    "name": "ipython",
    "version": 2
   },
   "file_extension": ".py",
   "mimetype": "text/x-python",
   "name": "python",
   "nbconvert_exporter": "python",
   "pygments_lexer": "ipython2",
   "version": "2.7.6"
  }
 },
 "nbformat": 4,
 "nbformat_minor": 0
}