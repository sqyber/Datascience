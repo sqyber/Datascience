{
 "cells": [
  {
   "cell_type": "code",
   "execution_count": 104,
   "metadata": {
    "collapsed": true
   },
   "outputs": [],
   "source": [
    "import numpy as np\n",
    "import pandas as pd\n",
    "import os\n",
    "import seaborn as sns\n",
    "import matplotlib.pyplot as plt\n",
    "import os\n",
    "import glob\n",
    "import fastai"
   ]
  },
  {
   "cell_type": "code",
   "execution_count": 105,
   "outputs": [],
   "source": [
    "from pathlib import Path\n",
    "from fastai import *\n",
    "from fastai.vision import *\n",
    "import torch\n",
    "from fastai.callback import *\n",
    "from tqdm import tqdm_notebook\n",
    "\n",
    "# more precise importing the required libraries\n",
    "import cv2\n",
    "import tensorflow as tf\n",
    "from tensorflow.keras.preprocessing.image import ImageDataGenerator\n",
    "from tensorflow.keras.applications import VGG16,ResNet101,ResNet101V2\n",
    "from tensorflow.keras.applications.vgg16 import preprocess_input\n",
    "from tensorflow.keras.preprocessing import image\n",
    "from tensorflow.keras.layers import Flatten,Dense,Dropout,BatchNormalization\n",
    "from tensorflow.keras.models import Model,Sequential\n",
    "from tensorflow.keras.utils import to_categorical\n",
    "from tensorflow.keras.layers import Conv2D, MaxPooling2D, BatchNormalization\n",
    "\n",
    "from tensorflow.keras.callbacks import ReduceLROnPlateau\n",
    "from sklearn.model_selection import train_test_split\n",
    "\n",
    "from tensorflow.keras.optimizers import Adam,SGD,Adagrad,Adadelta,RMSprop\n",
    "\n",
    "from sklearn.preprocessing import LabelEncoder"
   ],
   "metadata": {
    "collapsed": false,
    "pycharm": {
     "name": "#%%\n"
    }
   }
  },
  {
   "cell_type": "code",
   "execution_count": 106,
   "outputs": [],
   "source": [
    "img_folder = Path(\"../Snek\")\n",
    "train_path = \"../Snek/train\"\n",
    "path = os.path.join(train_path , \"*jpg\")"
   ],
   "metadata": {
    "collapsed": false,
    "pycharm": {
     "name": "#%%\n"
    }
   }
  },
  {
   "cell_type": "code",
   "execution_count": 107,
   "outputs": [
    {
     "name": "stderr",
     "output_type": "stream",
     "text": [
      "<ipython-input-107-6ae664c70376>:4: TqdmDeprecationWarning: This function will be removed in tqdm==5.0.0\n",
      "Please use `tqdm.notebook.tqdm` instead of `tqdm.tqdm_notebook`\n",
      "  for file in tqdm_notebook(files):\n"
     ]
    },
    {
     "data": {
      "text/plain": "  0%|          | 0/5508 [00:00<?, ?it/s]",
      "application/vnd.jupyter.widget-view+json": {
       "version_major": 2,
       "version_minor": 0,
       "model_id": "720d2506e50f4ae798f6fd7cd0eb5c25"
      }
     },
     "metadata": {},
     "output_type": "display_data"
    }
   ],
   "source": [
    "files = glob.glob(path)\n",
    "data = []\n",
    "name_img_mapper = {}\n",
    "for file in tqdm_notebook(files):\n",
    "    fn = file.split('/')[-1]\n",
    "    image = cv2.imread(file)\n",
    "    data.append(file)\n",
    "    name_img_mapper[fn] = image"
   ],
   "metadata": {
    "collapsed": false,
    "pycharm": {
     "name": "#%%\n"
    }
   }
  },
  {
   "cell_type": "code",
   "execution_count": 108,
   "outputs": [],
   "source": [
    "train_df = pd.read_csv('train.csv')\n",
    "test_df = pd.read_csv('test.csv')"
   ],
   "metadata": {
    "collapsed": false,
    "pycharm": {
     "name": "#%%\n"
    }
   }
  },
  {
   "cell_type": "code",
   "execution_count": 109,
   "outputs": [
    {
     "name": "stdout",
     "output_type": "stream",
     "text": [
      "<bound method NDFrame.head of             image_id                        breed\n",
      "0     a8b3ad1dde.jpg        nerodia-erythrogaster\n",
      "1     8b492b973d.jpg        pantherophis-vulpinus\n",
      "2     929b99ea92.jpg          thamnophis-sirtalis\n",
      "3     bbac7385e2.jpg       pantherophis-obsoletus\n",
      "4     ef776b1488.jpg       agkistrodon-contortrix\n",
      "...              ...                          ...\n",
      "5503  5f0c970adf.jpg      lampropeltis-triangulum\n",
      "5504  f6a4287fac.jpg  pantherophis-alleghaniensis\n",
      "5505  d3c10e63e1.jpg          thamnophis-sirtalis\n",
      "5506  61ef50879c.jpg          pituophis-catenifer\n",
      "5507  4791d8bf9a.jpg      lampropeltis-triangulum\n",
      "\n",
      "[5508 rows x 2 columns]>\n",
      "<bound method NDFrame.head of             image_id\n",
      "0     7ede553357.jpg\n",
      "1     3500b219e4.jpg\n",
      "2     d43a78d6d9.jpg\n",
      "3     1f36f26994.jpg\n",
      "4     8cb85fc58e.jpg\n",
      "...              ...\n",
      "2356  93e591cb23.jpg\n",
      "2357  68a603b39d.jpg\n",
      "2358  4f472510f3.jpg\n",
      "2359  d6884444ae.jpg\n",
      "2360  c0fa7df5de.jpg\n",
      "\n",
      "[2361 rows x 1 columns]>\n"
     ]
    }
   ],
   "source": [
    "#Concatenate .jpg to simplify\n",
    "train = train_df.copy()\n",
    "test = test_df.copy()\n",
    "\n",
    "train['image_id'] = train['image_id']+str('.jpg')\n",
    "test['image_id'] = test['image_id']+str('.jpg')\n",
    "\n",
    "print(train.head)\n",
    "print(test.head)"
   ],
   "metadata": {
    "collapsed": false,
    "pycharm": {
     "name": "#%%\n"
    }
   }
  },
  {
   "cell_type": "code",
   "execution_count": 110,
   "outputs": [
    {
     "data": {
      "text/plain": "                             image_id\nbreed                                \nagkistrodon-contortrix            206\nagkistrodon-piscivorus            147\ncoluber-constrictor               129\ncrotalus-atrox                    354\ncrotalus-horridus                 142\ncrotalus-ruber                     77\ncrotalus-scutulatus                63\ncrotalus-viridis                   83\ndiadophis-punctatus               184\nhaldea-striatula                   98\nheterodon-platirhinos             118\nlampropeltis-californiae          166\nlampropeltis-triangulum           197\nmasticophis-flagellum              83\nnatrix-natrix                      72\nnerodia-erythrogaster             171\nnerodia-fasciata                   74\nnerodia-rhombifer                 104\nnerodia-sipedon                   259\nopheodrys-aestivus                152\npantherophis-alleghaniensis       172\npantherophis-emoryi                66\npantherophis-guttatus             100\npantherophis-obsoletus            366\npantherophis-spiloides             92\npantherophis-vulpinus              73\npituophis-catenifer               298\nrhinocheilus-lecontei              91\nstoreria-dekayi                   412\nstoreria-occipitomaculata          87\nthamnophis-elegans                 69\nthamnophis-marcianus               82\nthamnophis-proximus               112\nthamnophis-radix                  100\nthamnophis-sirtalis               509",
      "text/html": "<div>\n<style scoped>\n    .dataframe tbody tr th:only-of-type {\n        vertical-align: middle;\n    }\n\n    .dataframe tbody tr th {\n        vertical-align: top;\n    }\n\n    .dataframe thead th {\n        text-align: right;\n    }\n</style>\n<table border=\"1\" class=\"dataframe\">\n  <thead>\n    <tr style=\"text-align: right;\">\n      <th></th>\n      <th>image_id</th>\n    </tr>\n    <tr>\n      <th>breed</th>\n      <th></th>\n    </tr>\n  </thead>\n  <tbody>\n    <tr>\n      <th>agkistrodon-contortrix</th>\n      <td>206</td>\n    </tr>\n    <tr>\n      <th>agkistrodon-piscivorus</th>\n      <td>147</td>\n    </tr>\n    <tr>\n      <th>coluber-constrictor</th>\n      <td>129</td>\n    </tr>\n    <tr>\n      <th>crotalus-atrox</th>\n      <td>354</td>\n    </tr>\n    <tr>\n      <th>crotalus-horridus</th>\n      <td>142</td>\n    </tr>\n    <tr>\n      <th>crotalus-ruber</th>\n      <td>77</td>\n    </tr>\n    <tr>\n      <th>crotalus-scutulatus</th>\n      <td>63</td>\n    </tr>\n    <tr>\n      <th>crotalus-viridis</th>\n      <td>83</td>\n    </tr>\n    <tr>\n      <th>diadophis-punctatus</th>\n      <td>184</td>\n    </tr>\n    <tr>\n      <th>haldea-striatula</th>\n      <td>98</td>\n    </tr>\n    <tr>\n      <th>heterodon-platirhinos</th>\n      <td>118</td>\n    </tr>\n    <tr>\n      <th>lampropeltis-californiae</th>\n      <td>166</td>\n    </tr>\n    <tr>\n      <th>lampropeltis-triangulum</th>\n      <td>197</td>\n    </tr>\n    <tr>\n      <th>masticophis-flagellum</th>\n      <td>83</td>\n    </tr>\n    <tr>\n      <th>natrix-natrix</th>\n      <td>72</td>\n    </tr>\n    <tr>\n      <th>nerodia-erythrogaster</th>\n      <td>171</td>\n    </tr>\n    <tr>\n      <th>nerodia-fasciata</th>\n      <td>74</td>\n    </tr>\n    <tr>\n      <th>nerodia-rhombifer</th>\n      <td>104</td>\n    </tr>\n    <tr>\n      <th>nerodia-sipedon</th>\n      <td>259</td>\n    </tr>\n    <tr>\n      <th>opheodrys-aestivus</th>\n      <td>152</td>\n    </tr>\n    <tr>\n      <th>pantherophis-alleghaniensis</th>\n      <td>172</td>\n    </tr>\n    <tr>\n      <th>pantherophis-emoryi</th>\n      <td>66</td>\n    </tr>\n    <tr>\n      <th>pantherophis-guttatus</th>\n      <td>100</td>\n    </tr>\n    <tr>\n      <th>pantherophis-obsoletus</th>\n      <td>366</td>\n    </tr>\n    <tr>\n      <th>pantherophis-spiloides</th>\n      <td>92</td>\n    </tr>\n    <tr>\n      <th>pantherophis-vulpinus</th>\n      <td>73</td>\n    </tr>\n    <tr>\n      <th>pituophis-catenifer</th>\n      <td>298</td>\n    </tr>\n    <tr>\n      <th>rhinocheilus-lecontei</th>\n      <td>91</td>\n    </tr>\n    <tr>\n      <th>storeria-dekayi</th>\n      <td>412</td>\n    </tr>\n    <tr>\n      <th>storeria-occipitomaculata</th>\n      <td>87</td>\n    </tr>\n    <tr>\n      <th>thamnophis-elegans</th>\n      <td>69</td>\n    </tr>\n    <tr>\n      <th>thamnophis-marcianus</th>\n      <td>82</td>\n    </tr>\n    <tr>\n      <th>thamnophis-proximus</th>\n      <td>112</td>\n    </tr>\n    <tr>\n      <th>thamnophis-radix</th>\n      <td>100</td>\n    </tr>\n    <tr>\n      <th>thamnophis-sirtalis</th>\n      <td>509</td>\n    </tr>\n  </tbody>\n</table>\n</div>"
     },
     "execution_count": 110,
     "metadata": {},
     "output_type": "execute_result"
    }
   ],
   "source": [
    "train.groupby('breed').count()"
   ],
   "metadata": {
    "collapsed": false,
    "pycharm": {
     "name": "#%%\n"
    }
   }
  },
  {
   "cell_type": "code",
   "execution_count": 111,
   "outputs": [
    {
     "data": {
      "text/plain": "<AxesSubplot:xlabel='breed', ylabel='count'>"
     },
     "execution_count": 111,
     "metadata": {},
     "output_type": "execute_result"
    }
   ],
   "source": [
    "sns.countplot(x='breed', data=train)"
   ],
   "metadata": {
    "collapsed": false,
    "pycharm": {
     "name": "#%%\n"
    }
   }
  },
  {
   "cell_type": "code",
   "execution_count": 112,
   "outputs": [],
   "source": [
    "train_images = data"
   ],
   "metadata": {
    "collapsed": false,
    "pycharm": {
     "name": "#%%\n"
    }
   }
  },
  {
   "cell_type": "code",
   "execution_count": 113,
   "outputs": [
    {
     "data": {
      "text/plain": "array([15, 25, 34, ..., 34, 26, 12])"
     },
     "execution_count": 113,
     "metadata": {},
     "output_type": "execute_result"
    }
   ],
   "source": [
    "le = LabelEncoder()\n",
    "training_labels = le.fit_transform(train['breed'])\n",
    "\n",
    "training_labels"
   ],
   "metadata": {
    "collapsed": false,
    "pycharm": {
     "name": "#%%\n"
    }
   }
  },
  {
   "cell_type": "code",
   "execution_count": 114,
   "outputs": [
    {
     "data": {
      "text/plain": "['299c932a68.jpg', '45652aebed.jpg', '2bc6a0b4cd.jpg']"
     },
     "execution_count": 114,
     "metadata": {},
     "output_type": "execute_result"
    }
   ],
   "source": [
    "#display image samples\n",
    "train.loc[train['breed']== 'pantherophis-spiloides']['image_id'][:3].tolist()"
   ],
   "metadata": {
    "collapsed": false,
    "pycharm": {
     "name": "#%%\n"
    }
   }
  },
  {
   "cell_type": "code",
   "execution_count": 115,
   "outputs": [],
   "source": [
    "def plot_class(cat):\n",
    "\n",
    "    fetch = train.loc[train_df['breed']== cat][:3]\n",
    "    image_names = train.loc[train_df['breed']== cat]['image_id'] [:3] .tolist()\n",
    "\n",
    "    fig = plt.figure(figsize=(20,15))\n",
    "\n",
    "    for i, img_name in enumerate(image_names):\n",
    "        plt.subplot(1,3 ,i+1)\n",
    "        plt.imshow(name_img_mapper[img_name])\n",
    "    plt.show()"
   ],
   "metadata": {
    "collapsed": false,
    "pycharm": {
     "name": "#%%\n"
    }
   }
  },
  {
   "cell_type": "code",
   "execution_count": 1,
   "outputs": [
    {
     "ename": "NameError",
     "evalue": "name 'plt' is not defined",
     "output_type": "error",
     "traceback": [
      "\u001B[1;31m---------------------------------------------------------------------------\u001B[0m",
      "\u001B[1;31mNameError\u001B[0m                                 Traceback (most recent call last)",
      "\u001B[1;32m<ipython-input-1-2995a5d9d3ed>\u001B[0m in \u001B[0;36m<module>\u001B[1;34m\u001B[0m\n\u001B[1;32m----> 1\u001B[1;33m \u001B[0mplt\u001B[0m\u001B[1;33m.\u001B[0m\u001B[0mimshow\u001B[0m\u001B[1;33m(\u001B[0m\u001B[0mname_img_mapper\u001B[0m\u001B[1;33m[\u001B[0m\u001B[1;36m0\u001B[0m\u001B[1;33m]\u001B[0m\u001B[1;33m)\u001B[0m\u001B[1;33m\u001B[0m\u001B[1;33m\u001B[0m\u001B[0m\n\u001B[0m",
      "\u001B[1;31mNameError\u001B[0m: name 'plt' is not defined"
     ]
    }
   ],
   "source": [
    "plt.imshow(name_img_mapper['299c932a68.jpg'])"
   ],
   "metadata": {
    "collapsed": false,
    "pycharm": {
     "name": "#%%\n"
    }
   }
  },
  {
   "cell_type": "code",
   "execution_count": null,
   "outputs": [],
   "source": [
    "plot_class('pantherophis-spiloides')"
   ],
   "metadata": {
    "collapsed": false,
    "pycharm": {
     "name": "#%%\n"
    }
   }
  },
  {
   "cell_type": "code",
   "execution_count": null,
   "outputs": [],
   "source": [
    "#Transforming images\n",
    "tfms = get_transforms(do_flip=True, flip_vert=False ,max_rotate=20.0, max_zoom=1.3, max_lightning=0.5,\n",
    "                      max_warp=0.1, p_affine=0.2, p_lightning=0.55)\n",
    "\n",
    "#list from test set\n",
    "test_img = Imagelist.from_df(test, path=data_folder, folder='test')"
   ],
   "metadata": {
    "collapsed": false,
    "pycharm": {
     "name": "#%%\n"
    }
   }
  },
  {
   "cell_type": "code",
   "execution_count": null,
   "outputs": [],
   "source": [
    "np.random.seed(145)\n",
    "\n",
    "src = (Imagelist.from_df(train, path=data_folder, folder='train').split_by_rand_pct(0.10)\n",
    "       .label_from_df\n",
    "       .add_test(test_img))"
   ],
   "metadata": {
    "collapsed": false,
    "pycharm": {
     "name": "#%%\n"
    }
   }
  },
  {
   "cell_type": "code",
   "execution_count": null,
   "outputs": [],
   "source": [],
   "metadata": {
    "collapsed": false,
    "pycharm": {
     "name": "#%%\n"
    }
   }
  }
 ],
 "metadata": {
  "kernelspec": {
   "name": "pycharm-ff1620ce",
   "language": "python",
   "display_name": "PyCharm (DataScience)"
  },
  "language_info": {
   "codemirror_mode": {
    "name": "ipython",
    "version": 2
   },
   "file_extension": ".py",
   "mimetype": "text/x-python",
   "name": "python",
   "nbconvert_exporter": "python",
   "pygments_lexer": "ipython2",
   "version": "2.7.6"
  }
 },
 "nbformat": 4,
 "nbformat_minor": 0
}